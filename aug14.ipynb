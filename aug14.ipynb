{
  "nbformat": 4,
  "nbformat_minor": 0,
  "metadata": {
    "colab": {
      "provenance": [],
      "authorship_tag": "ABX9TyOlT3v0QZ17lZOfdxHQBJUH",
      "include_colab_link": true
    },
    "kernelspec": {
      "name": "python3",
      "display_name": "Python 3"
    },
    "language_info": {
      "name": "python"
    }
  },
  "cells": [
    {
      "cell_type": "markdown",
      "metadata": {
        "id": "view-in-github",
        "colab_type": "text"
      },
      "source": [
        "<a href=\"https://colab.research.google.com/github/loki20051267/NLP/blob/main/aug14.ipynb\" target=\"_parent\"><img src=\"https://colab.research.google.com/assets/colab-badge.svg\" alt=\"Open In Colab\"/></a>"
      ]
    },
    {
      "cell_type": "code",
      "source": [
        "!wget https://files.consumerfinance.gov/ccdb/complaints.csv.zip -O complaints.csv.zip\n",
        "!unzip complaints.csv.zip\n",
        "import pandas as pd\n",
        "df = pd.read_csv('complaints.csv', usecols=['complaint_what_happened'])\n",
        "df = df.rename(columns={'complaint_what_happened': 'complaint_text'})\n"
      ],
      "metadata": {
        "id": "74rZItZ45jqY"
      },
      "execution_count": null,
      "outputs": []
    },
    {
      "cell_type": "code",
      "source": [
        "sample = df['complaint_text'].dropna().head(25)\n",
        "for idx, text in enumerate(sample, 1):\n",
        "    num_chars = len(text)\n",
        "    num_words = len(text.split())\n",
        "    print(f\"{idx:2d}. ({num_chars} chars, {num_words} words): {text}\")\n"
      ],
      "metadata": {
        "id": "YwO882K75jcF"
      },
      "execution_count": null,
      "outputs": []
    },
    {
      "cell_type": "code",
      "source": [
        "import spacy\n",
        "from nltk import pos_tag\n",
        "from nltk.tokenize import word_tokenize\n",
        "from collections import Counter\n",
        "\n",
        "nlp = spacy.load(\"en_core_web_sm\")\n",
        "\n",
        "all_tags = Counter()\n",
        "for text in sample:\n",
        "    tokens = word_tokenize(text)\n",
        "    tags = pos_tag(tokens)\n",
        "    all_tags.update(tag for word, tag in tags)\n",
        "\n",
        "print(all_tags.most_common())\n"
      ],
      "metadata": {
        "id": "U8K9zFcm3tRa"
      },
      "execution_count": null,
      "outputs": []
    },
    {
      "cell_type": "code",
      "source": [
        "import matplotlib.pyplot as plt\n",
        "\n",
        "verbs = Counter()\n",
        "adjectives = Counter()\n",
        "\n",
        "for doc in nlp.pipe(sample, disable=[\"ner\", \"parser\"]):\n",
        "    for token in doc:\n",
        "        if token.pos_ == \"VERB\":\n",
        "            verbs[token.lemma_.lower()] += 1\n",
        "        elif token.pos_ == \"ADJ\":\n",
        "            adjectives[token.lemma_.lower()] += 1\n",
        "\n",
        "# Plotting\n",
        "def plot_counter(counter, title):\n",
        "    common = counter.most_common(10)\n",
        "    words, counts = zip(*common)\n",
        "    plt.figure(figsize=(8,5))\n",
        "    plt.bar(words, counts)\n",
        "    plt.title(title)\n",
        "    plt.xticks(rotation=45)\n",
        "    plt.show()\n",
        "\n",
        "plot_counter(verbs, \"Top 10 Verbs\")\n",
        "plot_counter(adjectives, \"Top 10 Adjectives\")\n"
      ],
      "metadata": {
        "id": "2DM_wcHI3uUd"
      },
      "execution_count": null,
      "outputs": []
    },
    {
      "cell_type": "code",
      "source": [
        "import re\n",
        "\n",
        "samples = [\n",
        "    \"My phone number is 1234567890 and my email is test@domain.com\",\n",
        "    \"Visit https://example.com for more info!!!\",\n",
        "    \"HELLO!!! This is SOOOOO exciting :))\",\n",
        "    \"Contact us at info@company.org or call +91 98765-43210\",\n",
        "    \"Python's regex is very useful!!!  #Coding #Fun\"\n",
        "]\n",
        "\n",
        "phone_pattern = re.compile(r'(\\+?\\d[\\d\\-\\s]{7,}\\d)')\n",
        "email_pattern = re.compile(r'\\S+@\\S+')\n",
        "url_pattern = re.compile(r'https?://\\S+')\n",
        "\n",
        "for text in samples:\n",
        "    phones = phone_pattern.findall(text)\n",
        "    print(\"Phones found:\", phones)\n",
        "    clean = url_pattern.sub('', text)\n",
        "    clean = email_pattern.sub('', clean)\n",
        "    clean = phone_pattern.sub('', clean)\n",
        "    clean = re.sub(r'[^A-Za-z0-9\\s]+', '', clean)\n",
        "    clean = re.sub(r'\\s+', ' ', clean).strip()\n",
        "    print(\"Cleaned:\", clean, \"\\n\")\n"
      ],
      "metadata": {
        "id": "tS13ZoJr3zWy"
      },
      "execution_count": null,
      "outputs": []
    }
  ]
}