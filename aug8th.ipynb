{
  "nbformat": 4,
  "nbformat_minor": 0,
  "metadata": {
    "colab": {
      "provenance": [],
      "authorship_tag": "ABX9TyMi/30os0uZ4kxMCjE8XBx+",
      "include_colab_link": true
    },
    "kernelspec": {
      "name": "python3",
      "display_name": "Python 3"
    },
    "language_info": {
      "name": "python"
    }
  },
  "cells": [
    {
      "cell_type": "markdown",
      "metadata": {
        "id": "view-in-github",
        "colab_type": "text"
      },
      "source": [
        "<a href=\"https://colab.research.google.com/github/loki20051267/NLP/blob/main/aug8th.ipynb\" target=\"_parent\"><img src=\"https://colab.research.google.com/assets/colab-badge.svg\" alt=\"Open In Colab\"/></a>"
      ]
    },
    {
      "cell_type": "code",
      "execution_count": 1,
      "metadata": {
        "colab": {
          "base_uri": "https://localhost:8080/"
        },
        "id": "fwvz6e9lG-EG",
        "outputId": "918e1c0a-1288-4dc7-b433-4edd0b9e999d"
      },
      "outputs": [
        {
          "output_type": "stream",
          "name": "stdout",
          "text": [
            "First 3 Rows of Resumes:\n",
            "                                         resume_text\n",
            "0  John Doe\\n• Skills: Python, Java, SQL • Experi...\n",
            "1  Jane Smith\\n• Expert in Machine Learning, Data...\n",
            "2  Mark Lee\\n• Worked on AI, Deep Learning & NLP ...\n",
            "\n",
            "Checking for noisy characters like \\n, •, symbols:\n",
            "Resume 1: John Doe\n",
            "• Skills: Python, Java, SQL • Experience: 2 years\n",
            "Resume 2: Jane Smith\n",
            "• Expert in Machine Learning, Data Analysis, C++\n",
            "Resume 3: Mark Lee\n",
            "• Worked on AI, Deep Learning & NLP projects\n",
            "Experience: 3 years\n"
          ]
        }
      ],
      "source": [
        "import pandas as pd\n",
        "\n",
        "\n",
        "data = {\n",
        "    \"resume_text\": [\n",
        "        \"John Doe\\n• Skills: Python, Java, SQL • Experience: 2 years\",\n",
        "        \"Jane Smith\\n• Expert in Machine Learning, Data Analysis, C++\",\n",
        "        \"Mark Lee\\n• Worked on AI, Deep Learning & NLP projects\\nExperience: 3 years\"\n",
        "    ]\n",
        "}\n",
        "\n",
        "\n",
        "df = pd.DataFrame(data)\n",
        "\n",
        "\n",
        "print(\"First 3 Rows of Resumes:\")\n",
        "print(df.head(3))\n",
        "\n",
        "\n",
        "print(\"\\nChecking for noisy characters like \\\\n, •, symbols:\")\n",
        "for i, text in enumerate(df[\"resume_text\"]):\n",
        "    print(f\"Resume {i+1}: {text}\")\n"
      ]
    },
    {
      "cell_type": "markdown",
      "source": [
        "# **NLTK  Preprocessing**"
      ],
      "metadata": {
        "id": "tAL_P1peHzgd"
      }
    },
    {
      "cell_type": "code",
      "source": [
        "import re\n",
        "import nltk\n",
        "from nltk.corpus import stopwords\n",
        "from nltk.stem import PorterStemmer\n",
        "from collections import Counter\n",
        "\n",
        "nltk.download(\"punkt\")\n",
        "nltk.download(\"stopwords\")\n",
        "nltk.download(\"punkt_tab\") # Download the punkt_tab resource\n",
        "\n",
        "\n",
        "stop_words = set(stopwords.words(\"english\"))\n",
        "ps = PorterStemmer()\n",
        "\n",
        "cleaned_texts = []\n",
        "\n",
        "for text in df[\"resume_text\"]:\n",
        "    # 1. Remove special chars & digits\n",
        "    text = re.sub(r\"[^a-zA-Z\\s]\", \"\", text)\n",
        "\n",
        "    # 2. Tokenize\n",
        "    tokens = nltk.word_tokenize(text.lower())\n",
        "\n",
        "    # 3. Remove stopwords\n",
        "    tokens = [w for w in tokens if w not in stop_words]\n",
        "\n",
        "    # 4. Stemming\n",
        "    stemmed = [ps.stem(w) for w in tokens]\n",
        "\n",
        "    cleaned_texts.extend(stemmed)\n",
        "\n",
        "# Top 10 frequent words\n",
        "freq_words = Counter(cleaned_texts).most_common(10)\n",
        "print(\"\\nTop 10 frequent stemmed words:\")\n",
        "print(freq_words)"
      ],
      "metadata": {
        "colab": {
          "base_uri": "https://localhost:8080/"
        },
        "id": "hJrRvhIeHYJe",
        "outputId": "a8e01e23-871f-41b0-8929-625876f4a9be"
      },
      "execution_count": 3,
      "outputs": [
        {
          "output_type": "stream",
          "name": "stderr",
          "text": [
            "[nltk_data] Downloading package punkt to /root/nltk_data...\n",
            "[nltk_data]   Package punkt is already up-to-date!\n",
            "[nltk_data] Downloading package stopwords to /root/nltk_data...\n",
            "[nltk_data]   Package stopwords is already up-to-date!\n",
            "[nltk_data] Downloading package punkt_tab to /root/nltk_data...\n",
            "[nltk_data]   Unzipping tokenizers/punkt_tab.zip.\n"
          ]
        },
        {
          "output_type": "stream",
          "name": "stdout",
          "text": [
            "\n",
            "Top 10 frequent stemmed words:\n",
            "[('experi', 2), ('year', 2), ('learn', 2), ('john', 1), ('doe', 1), ('skill', 1), ('python', 1), ('java', 1), ('sql', 1), ('jane', 1)]\n"
          ]
        }
      ]
    },
    {
      "cell_type": "markdown",
      "source": [
        "# **spaCy**"
      ],
      "metadata": {
        "id": "6ZctsXStILJt"
      }
    },
    {
      "cell_type": "code",
      "source": [
        "import spacy\n",
        "from collections import Counter\n",
        "\n",
        "# Load English model\n",
        "nlp = spacy.load(\"en_core_web_sm\")\n",
        "\n",
        "lemmas = []\n",
        "\n",
        "for text in df[\"resume_text\"]:\n",
        "    doc = nlp(text)\n",
        "    for token in doc:\n",
        "        if token.is_alpha and (token.pos_ in [\"NOUN\", \"VERB\"]):\n",
        "            lemmas.append(token.lemma_.lower())\n",
        "\n",
        "# Top 10 frequent lemmas\n",
        "lemma_freq = Counter(lemmas).most_common(10)\n",
        "print(\"\\nTop 10 frequent lemmas (spaCy):\")\n",
        "print(lemma_freq)\n"
      ],
      "metadata": {
        "colab": {
          "base_uri": "https://localhost:8080/"
        },
        "id": "HUV2KOtjITY8",
        "outputId": "5a7ab7be-6fd5-49f6-f0ee-5dc3a1c07bdf"
      },
      "execution_count": 4,
      "outputs": [
        {
          "output_type": "stream",
          "name": "stdout",
          "text": [
            "\n",
            "Top 10 frequent lemmas (spaCy):\n",
            "[('experience', 2), ('year', 2), ('expert', 1), ('work', 1), ('project', 1)]\n"
          ]
        }
      ]
    }
  ]
}